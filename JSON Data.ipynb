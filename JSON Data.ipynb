{
 "cells": [
  {
   "cell_type": "code",
   "execution_count": 2,
   "id": "65cc75e2",
   "metadata": {},
   "outputs": [],
   "source": [
    "import pandas as pd"
   ]
  },
  {
   "cell_type": "markdown",
   "id": "e4aeb5a3",
   "metadata": {},
   "source": [
    "# Playing with JSON data"
   ]
  },
  {
   "cell_type": "code",
   "execution_count": 59,
   "id": "60a0be89",
   "metadata": {},
   "outputs": [],
   "source": [
    "# Please unComment this\n",
    "#pd.read_json(\"recipe/train.json\")"
   ]
  },
  {
   "cell_type": "code",
   "execution_count": 60,
   "id": "a5d7e366",
   "metadata": {},
   "outputs": [],
   "source": [
    "# Please unComment this\n",
    "#pd.read_json(\"https://api.exchangerate-api.com/v4/latest/INR\")"
   ]
  },
  {
   "cell_type": "markdown",
   "id": "35527087",
   "metadata": {},
   "source": [
    "# Web Scraping"
   ]
  },
  {
   "cell_type": "code",
   "execution_count": 5,
   "id": "329ed61f",
   "metadata": {},
   "outputs": [],
   "source": [
    "import pandas as pd\n",
    "import requests\n",
    "from bs4 import BeautifulSoup"
   ]
  },
  {
   "cell_type": "markdown",
   "id": "88db3b39",
   "metadata": {},
   "source": [
    "# The Website is "
   ]
  },
  {
   "cell_type": "code",
   "execution_count": 11,
   "id": "0086fecc",
   "metadata": {},
   "outputs": [],
   "source": [
    "headers = {'User-Agent':'Mozilla/5.0 (Windows NT 10.0; Win64; x64) AppleWebKit/537.36 (KHTML, like Gecko) Chrome/123.0.0.0 Safari/537.36'}\n",
    "webpage=requests.get('https://www.ambitionbox.com/list-of-companies?page=1',headers=headers).text"
   ]
  },
  {
   "cell_type": "code",
   "execution_count": 12,
   "id": "179eb6d8",
   "metadata": {},
   "outputs": [],
   "source": [
    "soup=BeautifulSoup(webpage,'lxml')"
   ]
  },
  {
   "cell_type": "code",
   "execution_count": 61,
   "id": "dd2335d2",
   "metadata": {},
   "outputs": [],
   "source": [
    "# Please unComment this\n",
    "#print(soup.prettify())"
   ]
  },
  {
   "cell_type": "code",
   "execution_count": 17,
   "id": "0b356435",
   "metadata": {},
   "outputs": [
    {
     "name": "stdout",
     "output_type": "stream",
     "text": [
      "TCS\n",
      "Accenture\n",
      "Cognizant\n",
      "Wipro\n",
      "Capgemini\n",
      "HDFC Bank\n",
      "ICICI Bank\n",
      "Infosys\n",
      "HCLTech\n",
      "Tech Mahindra\n",
      "Genpact\n",
      "Axis Bank\n",
      "Teleperformance\n",
      "Concentrix Corporation\n",
      "Jio\n",
      "Amazon\n",
      "IBM\n",
      "Reliance Retail\n",
      "HDB Financial Services\n",
      "Larsen & Toubro Limited\n",
      "Companies by  Industry\n",
      "Companies by  Locations\n",
      "Companies by  Type\n",
      "Companies by  Badges\n"
     ]
    }
   ],
   "source": [
    "for i in soup.find_all('h2'):\n",
    "    print(i.text.strip())"
   ]
  },
  {
   "cell_type": "code",
   "execution_count": 23,
   "id": "057ecef7",
   "metadata": {},
   "outputs": [
    {
     "name": "stdout",
     "output_type": "stream",
     "text": [
      "TCS\n",
      "Accenture\n",
      "Cognizant\n",
      "Wipro\n",
      "Capgemini\n",
      "HDFC Bank\n",
      "ICICI Bank\n",
      "Infosys\n",
      "HCLTech\n",
      "Tech Mahindra\n",
      "Genpact\n",
      "Axis Bank\n",
      "Teleperformance\n",
      "Concentrix Corporation\n",
      "Jio\n",
      "Amazon\n",
      "IBM\n",
      "Reliance Retail\n",
      "HDB Financial Services\n",
      "Larsen & Toubro Limited\n"
     ]
    }
   ],
   "source": [
    "for i in soup.find_all('h2', class_='companyCardWrapper__companyName'):\n",
    "    print(i.text.strip())"
   ]
  },
  {
   "cell_type": "code",
   "execution_count": 24,
   "id": "820b7057",
   "metadata": {
    "scrolled": true
   },
   "outputs": [
    {
     "name": "stdout",
     "output_type": "stream",
     "text": [
      "3.8\n",
      "4.0\n",
      "3.9\n",
      "3.8\n",
      "3.9\n",
      "4.0\n",
      "4.0\n",
      "3.8\n",
      "3.7\n",
      "3.7\n",
      "3.9\n",
      "3.9\n",
      "3.6\n",
      "3.9\n",
      "4.0\n",
      "4.1\n",
      "4.1\n",
      "4.0\n",
      "4.0\n",
      "4.1\n"
     ]
    }
   ],
   "source": [
    "for i in soup.find_all('span', class_='companyCardWrapper__companyRatingValue'):\n",
    "    print(i.text.strip())"
   ]
  },
  {
   "cell_type": "code",
   "execution_count": 52,
   "id": "91528954",
   "metadata": {},
   "outputs": [
    {
     "name": "stdout",
     "output_type": "stream",
     "text": [
      "74.2k\n",
      "851.5k\n",
      "6.6k\n",
      "871\n",
      "11.6k\n",
      "77\n",
      "47k\n",
      "585.7k\n",
      "4.7k\n",
      "28.5k\n",
      "7.2k\n",
      "39\n",
      "42.4k\n",
      "561.2k\n",
      "3.9k\n",
      "398\n",
      "5.9k\n",
      "63\n",
      "39.9k\n",
      "425.2k\n",
      "3.9k\n",
      "217\n",
      "5k\n",
      "79\n",
      "34.5k\n",
      "414.1k\n",
      "3.1k\n",
      "721\n",
      "4.1k\n",
      "36\n",
      "34.4k\n",
      "131.3k\n",
      "1.6k\n",
      "203\n",
      "3.3k\n",
      "5\n",
      "34k\n",
      "141.2k\n",
      "1.9k\n",
      "50\n",
      "3.8k\n",
      "48\n",
      "32.3k\n",
      "483.5k\n",
      "5.1k\n",
      "1.1k\n",
      "5.2k\n",
      "90\n",
      "29k\n",
      "295.9k\n",
      "2.7k\n",
      "302\n",
      "4.1k\n",
      "35\n",
      "28k\n",
      "252.8k\n",
      "2.6k\n",
      "950\n",
      "3.6k\n",
      "43\n",
      "26.6k\n",
      "187.2k\n",
      "2.1k\n",
      "596\n",
      "3.7k\n",
      "36\n",
      "22.3k\n",
      "96.9k\n",
      "1.1k\n",
      "155\n",
      "2.2k\n",
      "45\n",
      "22.3k\n",
      "84k\n",
      "1.3k\n",
      "348\n",
      "2k\n",
      "31\n",
      "22.1k\n",
      "106k\n",
      "1.1k\n",
      "86\n",
      "3.3k\n",
      "37\n",
      "20.8k\n",
      "65.7k\n",
      "1.2k\n",
      "122\n",
      "2.6k\n",
      "43\n",
      "20.8k\n",
      "120.8k\n",
      "3.6k\n",
      "195\n",
      "4.2k\n",
      "53\n",
      "19.9k\n",
      "217.5k\n",
      "1.6k\n",
      "2.9k\n",
      "2.7k\n",
      "20\n",
      "19.1k\n",
      "60.6k\n",
      "1.2k\n",
      "140\n",
      "2k\n",
      "101\n",
      "18.4k\n",
      "49.3k\n",
      "614\n",
      "138\n",
      "1.5k\n",
      "32\n",
      "16.8k\n",
      "80.1k\n",
      "1.1k\n",
      "148\n",
      "2.9k\n",
      "36\n"
     ]
    }
   ],
   "source": [
    "for i in soup.find_all('span', class_='companyCardWrapper__ActionCount'):\n",
    "    print(i.text.strip())"
   ]
  },
  {
   "cell_type": "code",
   "execution_count": 26,
   "id": "3501e379",
   "metadata": {},
   "outputs": [
    {
     "name": "stdout",
     "output_type": "stream",
     "text": [
      "IT Services & Consulting | 1 Lakh+ Employees | Public | 56 years old | Mumbai +345 more\n",
      "IT Services & Consulting | 1 Lakh+ Employees | Public | 35 years old | Dublin +176 more\n",
      "IT Services & Consulting | 1 Lakh+ Employees | Forbes Global 2000 | 30 years old | Teaneck. New Jersey. +163 more\n",
      "IT Services & Consulting | 1 Lakh+ Employees | Public | 79 years old | Bangalore/Bengaluru +277 more\n",
      "IT Services & Consulting | 1 Lakh+ Employees | Public | 57 years old | Paris +141 more\n",
      "Banking | 1 Lakh+ Employees | Public | 30 years old | Mumbai +1547 more\n",
      "Banking | 1 Lakh+ Employees | Public | 30 years old | Mumbai +1286 more\n",
      "IT Services & Consulting | 1 Lakh+ Employees | Public | 43 years old | Bengaluru/Bangalore +182 more\n",
      "IT Services & Consulting | 1 Lakh+ Employees | Public | 33 years old | Noida +183 more\n",
      "IT Services & Consulting | 1 Lakh+ Employees | Public | 38 years old | Pune +268 more\n",
      "IT Services & Consulting | 1 Lakh+ Employees | Public | 27 years old | New York +112 more\n",
      "Banking | 50k-1 Lakh Employees | Public | 31 years old | Mumbai +1303 more\n",
      "BPO | 50k-1 Lakh Employees | Forbes Global 2000 | 46 years old | Paris +184 more\n",
      "BPO | 50k-1 Lakh Employees | Public | 41 years old | Fremont +116 more\n",
      "Telecom | 50k-1 Lakh Employees | Public | 17 years old | Navi Mumbai +1172 more\n",
      "Internet | 1 Lakh+ Employees | Public | 30 years old | Seattle +448 more\n",
      "IT Services & Consulting | 1 Lakh+ Employees | Public | 113 years old | Armonk +147 more\n",
      "Retail | 1 Lakh+ Employees | 18 years old | Navi Mumbai +1001 more\n",
      "NBFC | 1 Lakh+ Employees | 17 years old | Ahmedabad +954 more\n",
      "Engineering & Construction | 10k-50k Employees | Public | 86 years old | Mumbai +624 more\n"
     ]
    }
   ],
   "source": [
    "for i in soup.find_all('span', class_='companyCardWrapper__interLinking'):\n",
    "    print(i.text.strip())"
   ]
  },
  {
   "cell_type": "code",
   "execution_count": 29,
   "id": "6577002d",
   "metadata": {},
   "outputs": [],
   "source": [
    "company=soup.find_all('div',class_='companyCardWrapper__primaryInformation')"
   ]
  },
  {
   "cell_type": "code",
   "execution_count": 30,
   "id": "d6672d9d",
   "metadata": {},
   "outputs": [
    {
     "data": {
      "text/plain": [
       "20"
      ]
     },
     "execution_count": 30,
     "metadata": {},
     "output_type": "execute_result"
    }
   ],
   "source": [
    "len(company)"
   ]
  },
  {
   "cell_type": "code",
   "execution_count": 55,
   "id": "47e19813",
   "metadata": {},
   "outputs": [],
   "source": [
    "name=[]\n",
    "rating=[]\n",
    "reviews=[]\n",
    "for i in company:\n",
    "    name.append(i.find('h2').text.strip())\n",
    "    rating.append(i.find('span', class_='companyCardWrapper__companyRatingValue').text.strip())\n",
    "    reviews.append(i.find('span', class_='companyCardWrapper__interLinking').text.strip())"
   ]
  },
  {
   "cell_type": "code",
   "execution_count": 58,
   "id": "a0544e35",
   "metadata": {},
   "outputs": [
    {
     "data": {
      "text/html": [
       "<div>\n",
       "<style scoped>\n",
       "    .dataframe tbody tr th:only-of-type {\n",
       "        vertical-align: middle;\n",
       "    }\n",
       "\n",
       "    .dataframe tbody tr th {\n",
       "        vertical-align: top;\n",
       "    }\n",
       "\n",
       "    .dataframe thead th {\n",
       "        text-align: right;\n",
       "    }\n",
       "</style>\n",
       "<table border=\"1\" class=\"dataframe\">\n",
       "  <thead>\n",
       "    <tr style=\"text-align: right;\">\n",
       "      <th></th>\n",
       "      <th>name</th>\n",
       "      <th>rating</th>\n",
       "      <th>reviews</th>\n",
       "    </tr>\n",
       "  </thead>\n",
       "  <tbody>\n",
       "    <tr>\n",
       "      <th>0</th>\n",
       "      <td>TCS</td>\n",
       "      <td>3.8</td>\n",
       "      <td>IT Services &amp; Consulting | 1 Lakh+ Employees |...</td>\n",
       "    </tr>\n",
       "    <tr>\n",
       "      <th>1</th>\n",
       "      <td>Accenture</td>\n",
       "      <td>4.0</td>\n",
       "      <td>IT Services &amp; Consulting | 1 Lakh+ Employees |...</td>\n",
       "    </tr>\n",
       "    <tr>\n",
       "      <th>2</th>\n",
       "      <td>Cognizant</td>\n",
       "      <td>3.9</td>\n",
       "      <td>IT Services &amp; Consulting | 1 Lakh+ Employees |...</td>\n",
       "    </tr>\n",
       "    <tr>\n",
       "      <th>3</th>\n",
       "      <td>Wipro</td>\n",
       "      <td>3.8</td>\n",
       "      <td>IT Services &amp; Consulting | 1 Lakh+ Employees |...</td>\n",
       "    </tr>\n",
       "    <tr>\n",
       "      <th>4</th>\n",
       "      <td>Capgemini</td>\n",
       "      <td>3.9</td>\n",
       "      <td>IT Services &amp; Consulting | 1 Lakh+ Employees |...</td>\n",
       "    </tr>\n",
       "    <tr>\n",
       "      <th>5</th>\n",
       "      <td>HDFC Bank</td>\n",
       "      <td>4.0</td>\n",
       "      <td>Banking | 1 Lakh+ Employees | Public | 30 year...</td>\n",
       "    </tr>\n",
       "    <tr>\n",
       "      <th>6</th>\n",
       "      <td>ICICI Bank</td>\n",
       "      <td>4.0</td>\n",
       "      <td>Banking | 1 Lakh+ Employees | Public | 30 year...</td>\n",
       "    </tr>\n",
       "    <tr>\n",
       "      <th>7</th>\n",
       "      <td>Infosys</td>\n",
       "      <td>3.8</td>\n",
       "      <td>IT Services &amp; Consulting | 1 Lakh+ Employees |...</td>\n",
       "    </tr>\n",
       "    <tr>\n",
       "      <th>8</th>\n",
       "      <td>HCLTech</td>\n",
       "      <td>3.7</td>\n",
       "      <td>IT Services &amp; Consulting | 1 Lakh+ Employees |...</td>\n",
       "    </tr>\n",
       "    <tr>\n",
       "      <th>9</th>\n",
       "      <td>Tech Mahindra</td>\n",
       "      <td>3.7</td>\n",
       "      <td>IT Services &amp; Consulting | 1 Lakh+ Employees |...</td>\n",
       "    </tr>\n",
       "    <tr>\n",
       "      <th>10</th>\n",
       "      <td>Genpact</td>\n",
       "      <td>3.9</td>\n",
       "      <td>IT Services &amp; Consulting | 1 Lakh+ Employees |...</td>\n",
       "    </tr>\n",
       "    <tr>\n",
       "      <th>11</th>\n",
       "      <td>Axis Bank</td>\n",
       "      <td>3.9</td>\n",
       "      <td>Banking | 50k-1 Lakh Employees | Public | 31 y...</td>\n",
       "    </tr>\n",
       "    <tr>\n",
       "      <th>12</th>\n",
       "      <td>Teleperformance</td>\n",
       "      <td>3.6</td>\n",
       "      <td>BPO | 50k-1 Lakh Employees | Forbes Global 200...</td>\n",
       "    </tr>\n",
       "    <tr>\n",
       "      <th>13</th>\n",
       "      <td>Concentrix Corporation</td>\n",
       "      <td>3.9</td>\n",
       "      <td>BPO | 50k-1 Lakh Employees | Public | 41 years...</td>\n",
       "    </tr>\n",
       "    <tr>\n",
       "      <th>14</th>\n",
       "      <td>Jio</td>\n",
       "      <td>4.0</td>\n",
       "      <td>Telecom | 50k-1 Lakh Employees | Public | 17 y...</td>\n",
       "    </tr>\n",
       "    <tr>\n",
       "      <th>15</th>\n",
       "      <td>Amazon</td>\n",
       "      <td>4.1</td>\n",
       "      <td>Internet | 1 Lakh+ Employees | Public | 30 yea...</td>\n",
       "    </tr>\n",
       "    <tr>\n",
       "      <th>16</th>\n",
       "      <td>IBM</td>\n",
       "      <td>4.1</td>\n",
       "      <td>IT Services &amp; Consulting | 1 Lakh+ Employees |...</td>\n",
       "    </tr>\n",
       "    <tr>\n",
       "      <th>17</th>\n",
       "      <td>Reliance Retail</td>\n",
       "      <td>4.0</td>\n",
       "      <td>Retail | 1 Lakh+ Employees | 18 years old | Na...</td>\n",
       "    </tr>\n",
       "    <tr>\n",
       "      <th>18</th>\n",
       "      <td>HDB Financial Services</td>\n",
       "      <td>4.0</td>\n",
       "      <td>NBFC | 1 Lakh+ Employees | 17 years old | Ahme...</td>\n",
       "    </tr>\n",
       "    <tr>\n",
       "      <th>19</th>\n",
       "      <td>Larsen &amp; Toubro Limited</td>\n",
       "      <td>4.1</td>\n",
       "      <td>Engineering &amp; Construction | 10k-50k Employees...</td>\n",
       "    </tr>\n",
       "  </tbody>\n",
       "</table>\n",
       "</div>"
      ],
      "text/plain": [
       "                       name rating  \\\n",
       "0                       TCS    3.8   \n",
       "1                 Accenture    4.0   \n",
       "2                 Cognizant    3.9   \n",
       "3                     Wipro    3.8   \n",
       "4                 Capgemini    3.9   \n",
       "5                 HDFC Bank    4.0   \n",
       "6                ICICI Bank    4.0   \n",
       "7                   Infosys    3.8   \n",
       "8                   HCLTech    3.7   \n",
       "9             Tech Mahindra    3.7   \n",
       "10                  Genpact    3.9   \n",
       "11                Axis Bank    3.9   \n",
       "12          Teleperformance    3.6   \n",
       "13   Concentrix Corporation    3.9   \n",
       "14                      Jio    4.0   \n",
       "15                   Amazon    4.1   \n",
       "16                      IBM    4.1   \n",
       "17          Reliance Retail    4.0   \n",
       "18   HDB Financial Services    4.0   \n",
       "19  Larsen & Toubro Limited    4.1   \n",
       "\n",
       "                                              reviews  \n",
       "0   IT Services & Consulting | 1 Lakh+ Employees |...  \n",
       "1   IT Services & Consulting | 1 Lakh+ Employees |...  \n",
       "2   IT Services & Consulting | 1 Lakh+ Employees |...  \n",
       "3   IT Services & Consulting | 1 Lakh+ Employees |...  \n",
       "4   IT Services & Consulting | 1 Lakh+ Employees |...  \n",
       "5   Banking | 1 Lakh+ Employees | Public | 30 year...  \n",
       "6   Banking | 1 Lakh+ Employees | Public | 30 year...  \n",
       "7   IT Services & Consulting | 1 Lakh+ Employees |...  \n",
       "8   IT Services & Consulting | 1 Lakh+ Employees |...  \n",
       "9   IT Services & Consulting | 1 Lakh+ Employees |...  \n",
       "10  IT Services & Consulting | 1 Lakh+ Employees |...  \n",
       "11  Banking | 50k-1 Lakh Employees | Public | 31 y...  \n",
       "12  BPO | 50k-1 Lakh Employees | Forbes Global 200...  \n",
       "13  BPO | 50k-1 Lakh Employees | Public | 41 years...  \n",
       "14  Telecom | 50k-1 Lakh Employees | Public | 17 y...  \n",
       "15  Internet | 1 Lakh+ Employees | Public | 30 yea...  \n",
       "16  IT Services & Consulting | 1 Lakh+ Employees |...  \n",
       "17  Retail | 1 Lakh+ Employees | 18 years old | Na...  \n",
       "18  NBFC | 1 Lakh+ Employees | 17 years old | Ahme...  \n",
       "19  Engineering & Construction | 10k-50k Employees...  "
      ]
     },
     "execution_count": 58,
     "metadata": {},
     "output_type": "execute_result"
    }
   ],
   "source": [
    "d={'name':name,'rating':rating,'reviews':reviews}\n",
    "pd.DataFrame(d)"
   ]
  },
  {
   "cell_type": "code",
   "execution_count": null,
   "id": "61c09807",
   "metadata": {},
   "outputs": [],
   "source": []
  }
 ],
 "metadata": {
  "kernelspec": {
   "display_name": "Python 3 (ipykernel)",
   "language": "python",
   "name": "python3"
  },
  "language_info": {
   "codemirror_mode": {
    "name": "ipython",
    "version": 3
   },
   "file_extension": ".py",
   "mimetype": "text/x-python",
   "name": "python",
   "nbconvert_exporter": "python",
   "pygments_lexer": "ipython3",
   "version": "3.11.5"
  }
 },
 "nbformat": 4,
 "nbformat_minor": 5
}
